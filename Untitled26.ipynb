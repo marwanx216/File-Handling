{
 "cells": [
  {
   "cell_type": "code",
   "execution_count": 2,
   "id": "cb89db26",
   "metadata": {},
   "outputs": [
    {
     "name": "stdout",
     "output_type": "stream",
     "text": [
      "What is Python language?                                                \n",
      "Python is a widely used high-level, general-purpose, interpreted, dynamic programming language.Its design philosophy emphasizes code readability, and its syntax allows programmers to express concepts in fewer lines of code than possible in \n",
      "languages such as C++ or Java. \n",
      "Python supports multiple programming paradigms, including object-oriented, imperative and functional programming or procedural styles. It features a dynamic type system and automatic memory management and has a large and comprehensive standard library.The best way we learn anything is by practice and exercise questions. We  have started this section for those (beginner to intermediate) who are familiar with Python.\n"
     ]
    }
   ],
   "source": [
    "#1. Write a Python program to read an entire text file.\n",
    "\n",
    "f = open(\"C:/Users/DELL/PycharmProjects/pythonProject2/venv/python.txt\")\n",
    "print(f.read())"
   ]
  },
  {
   "cell_type": "code",
   "execution_count": 3,
   "id": "ba0a122b",
   "metadata": {},
   "outputs": [
    {
     "name": "stdout",
     "output_type": "stream",
     "text": [
      "What is Python language?                                                \n",
      " Python is a widely used high-level, general-purpose, interpreted, dynamic programming language.Its design philosophy emphasizes code readability, and its syntax allows programmers to express concepts in fewer lines of code than possible in \n",
      " "
     ]
    }
   ],
   "source": [
    "#2. Write a Python program to read the first n lines of a file.\n",
    "\n",
    "f = open(\"C:/Users/DELL/PycharmProjects/pythonProject2/venv/python.txt\")\n",
    " \n",
    "lines = f.readlines()\n",
    "# Read the first n lines\n",
    "for i in lines[:2]:\n",
    "    print(i,end=\" \")\n"
   ]
  },
  {
   "cell_type": "code",
   "execution_count": 5,
   "id": "f45985f5",
   "metadata": {},
   "outputs": [
    {
     "name": "stdout",
     "output_type": "stream",
     "text": [
      "languages such as C++ or Java. \n",
      " Python supports multiple programming paradigms, including object-oriented, imperative and functional programming or procedural styles. It features a dynamic type system and automatic memory management and has a large and comprehensive standard library.The best way we learn anything is by practice and exercise questions. We  have started this section for those (beginner to intermediate) who are familiar with Python. "
     ]
    }
   ],
   "source": [
    "#3. Write a Python program to read the last n lines of a file.\n",
    "\n",
    "f = open(\"C:/Users/DELL/PycharmProjects/pythonProject2/venv/python.txt\")\n",
    " \n",
    "lines = f.readlines()\n",
    "# Read the first n lines\n",
    "for i in lines[-2:]:\n",
    "    print(i,end=\" \")\n"
   ]
  },
  {
   "cell_type": "code",
   "execution_count": 7,
   "id": "0ba29fc5",
   "metadata": {},
   "outputs": [
    {
     "name": "stdout",
     "output_type": "stream",
     "text": [
      "100\n"
     ]
    }
   ],
   "source": [
    "#4. Write a Python program that takes a text file as input and returns the number of words of a given text file.\n",
    "\n",
    "# Open the file and assign it to f\n",
    "f = open(\"C:/Users/DELL/PycharmProjects/pythonProject2/venv/python.txt\")\n",
    "\n",
    "data = f.read()\n",
    "words = data.split()\n",
    "\n",
    "print(len(words))"
   ]
  }
 ],
 "metadata": {
  "kernelspec": {
   "display_name": "Python 3 (ipykernel)",
   "language": "python",
   "name": "python3"
  },
  "language_info": {
   "codemirror_mode": {
    "name": "ipython",
    "version": 3
   },
   "file_extension": ".py",
   "mimetype": "text/x-python",
   "name": "python",
   "nbconvert_exporter": "python",
   "pygments_lexer": "ipython3",
   "version": "3.9.12"
  }
 },
 "nbformat": 4,
 "nbformat_minor": 5
}
